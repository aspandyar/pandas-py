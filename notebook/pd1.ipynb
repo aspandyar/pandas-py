{
 "cells": [
  {
   "cell_type": "code",
   "execution_count": 2,
   "id": "37521f89-65ed-43dd-9bb3-4d4205701e4f",
   "metadata": {},
   "outputs": [],
   "source": [
    "import pandas as pd"
   ]
  },
  {
   "cell_type": "code",
   "execution_count": 3,
   "id": "69ca7802-e879-44c7-bed3-a4940d7b3874",
   "metadata": {},
   "outputs": [],
   "source": [
    "df = pd.read_csv('data/survey_results_public.csv')"
   ]
  },
  {
   "cell_type": "code",
   "execution_count": null,
   "id": "0972b066-bf79-49b5-b2a7-4c508bb9e0f6",
   "metadata": {},
   "outputs": [],
   "source": [
    "df"
   ]
  },
  {
   "cell_type": "code",
   "execution_count": null,
   "id": "d5020410-635c-43e0-b2e9-958c80b9f377",
   "metadata": {},
   "outputs": [],
   "source": [
    "df.head(4)"
   ]
  },
  {
   "cell_type": "code",
   "execution_count": null,
   "id": "71c6524a-fca2-4fee-8bd5-d6ed4c1e40ca",
   "metadata": {},
   "outputs": [],
   "source": [
    "df.tail(10)"
   ]
  },
  {
   "cell_type": "code",
   "execution_count": 5,
   "id": "e1bb9a2e-c3ed-4e63-88ad-fc720aacf55e",
   "metadata": {},
   "outputs": [
    {
     "data": {
      "text/plain": [
       "(88883, 85)"
      ]
     },
     "execution_count": 5,
     "metadata": {},
     "output_type": "execute_result"
    }
   ],
   "source": [
    "df.shape"
   ]
  },
  {
   "cell_type": "code",
   "execution_count": null,
   "id": "8f2e1984-5d8c-4e3d-b4de-5b0507784526",
   "metadata": {},
   "outputs": [],
   "source": [
    "df.info()"
   ]
  },
  {
   "cell_type": "code",
   "execution_count": 17,
   "id": "6c4fc63c-604b-4a34-bb88-68ef785e72ae",
   "metadata": {},
   "outputs": [],
   "source": [
    "pd.set_option('display.max_columns', 85)\n",
    "pd.set_option('display.max_rows', 85)"
   ]
  },
  {
   "cell_type": "code",
   "execution_count": 14,
   "id": "f22e395d-211c-4c6c-8bc1-48b80de5a654",
   "metadata": {},
   "outputs": [],
   "source": [
    "schema_df = pd.read_csv('data/survey_results_schema.csv')"
   ]
  },
  {
   "cell_type": "code",
   "execution_count": null,
   "id": "ac892c73-55ee-4223-8a71-230f0f659fb9",
   "metadata": {},
   "outputs": [],
   "source": [
    "schema_df"
   ]
  },
  {
   "cell_type": "code",
   "execution_count": null,
   "id": "d4d6a83d-fdc6-4699-9fc8-4ecde2209809",
   "metadata": {},
   "outputs": [],
   "source": []
  }
 ],
 "metadata": {
  "kernelspec": {
   "display_name": "Python 3 (ipykernel)",
   "language": "python",
   "name": "python3"
  },
  "language_info": {
   "codemirror_mode": {
    "name": "ipython",
    "version": 3
   },
   "file_extension": ".py",
   "mimetype": "text/x-python",
   "name": "python",
   "nbconvert_exporter": "python",
   "pygments_lexer": "ipython3",
   "version": "3.11.7"
  }
 },
 "nbformat": 4,
 "nbformat_minor": 5
}
